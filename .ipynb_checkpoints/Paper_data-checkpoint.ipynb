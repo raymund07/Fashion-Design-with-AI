{
 "cells": [
  {
   "cell_type": "code",
   "execution_count": 7,
   "metadata": {},
   "outputs": [],
   "source": [
    "import sqlite3\n",
    "import json\n",
    "import cv2\n",
    "import numpy as np\n",
    "import base64\n",
    "from keras.models import load_model\n",
    "\n",
    "model1 = load_model('stage1-epoch-150.h5')\n",
    "model2 = load_model('stage2-epoch-150.h5')\n",
    "pix2pix = load_model('pix2pix-epoch-149.h5')"
   ]
  },
  {
   "cell_type": "code",
   "execution_count": 12,
   "metadata": {},
   "outputs": [
    {
     "data": {
      "text/plain": [
       "True"
      ]
     },
     "execution_count": 12,
     "metadata": {},
     "output_type": "execute_result"
    }
   ],
   "source": [
    "image = cv2.imread('../output/train/00000020.jpg', 1)\n",
    "sketch = image[:,:256,:]\n",
    "landmark = image[:,256:256*2,:]\n",
    "image = image[:,256*2:,:]\n",
    "\n",
    "_, sketch = cv2.threshold(sketch,200,255,cv2.THRESH_BINARY)\n",
    "\n",
    "cv2.imwrite('./paper/image.png', image)\n",
    "cv2.imwrite('./paper/sketch.png', sketch)\n",
    "cv2.imwrite('./paper/landmark.png', landmark)\n",
    "\n",
    "landmark = np.array(landmark)/127.5-1\n",
    "sketch = np.array(sketch)/127.5-1\n",
    "\n",
    "landmark = landmark[np.newaxis,...]\n",
    "sketch = sketch[np.newaxis,...]\n",
    "\n",
    "pix2pix_result = pix2pix.predict(sketch)\n",
    "pix2pix_result = np.squeeze((pix2pix_result * 127.5 + 127.5).astype(np.uint8))\n",
    "pix2pix_result = cv2.cvtColor(pix2pix_result, cv2.COLOR_RGB2BGR)\n",
    "cv2.imwrite('./paper/pix2pix_result.png', pix2pix_result)\n",
    "\n",
    "fake_sketch = model1.predict(landmark)\n",
    "cv2.imwrite('./paper/fake_sketch.png', np.squeeze((fake_sketch * 127.5 + 127.5).astype(np.uint8)))\n",
    "\n",
    "sketch = np.concatenate([fake_sketch, sketch], axis=3)\n",
    "result = model2.predict(sketch)\n",
    "\n",
    "result = np.squeeze((result * 127.5 + 127.5).astype(np.uint8))\n",
    "result = cv2.cvtColor(result, cv2.COLOR_RGB2BGR)\n",
    "\n",
    "cv2.imwrite('./paper/result.png', result)"
   ]
  }
 ],
 "metadata": {
  "kernelspec": {
   "display_name": "Python 3",
   "language": "python",
   "name": "python3"
  },
  "language_info": {
   "codemirror_mode": {
    "name": "ipython",
    "version": 2
   },
   "file_extension": ".py",
   "mimetype": "text/x-python",
   "name": "python",
   "nbconvert_exporter": "python",
   "pygments_lexer": "ipython2",
   "version": "2.7.15"
  }
 },
 "nbformat": 4,
 "nbformat_minor": 2
}
