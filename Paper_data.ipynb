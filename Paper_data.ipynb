{
 "cells": [
  {
   "cell_type": "code",
   "execution_count": 11,
   "metadata": {},
   "outputs": [
    {
     "name": "stdout",
     "output_type": "stream",
     "text": [
      "./paper/comparison-all/0/liveqiCpO-livekxnSI.png\n",
      "./paper/comparison-all/1/liveqiCpO-livekxnSI.png\n",
      "./paper/comparison-all/2/liveqiCpO-livekxnSI.png\n",
      "./paper/comparison-all/3/liveqiCpO-livekxnSI.png\n",
      "./paper/comparison-all/4/liveqiCpO-livekxnSI.png\n",
      "./paper/comparison-all/0/liveiVMty-livee906x.png\n",
      "./paper/comparison-all/1/liveiVMty-livee906x.png\n",
      "./paper/comparison-all/2/liveiVMty-livee906x.png\n",
      "./paper/comparison-all/3/liveiVMty-livee906x.png\n",
      "./paper/comparison-all/4/liveiVMty-livee906x.png\n",
      "./paper/comparison-all/0/livecGEHE-liveSkNnu.png\n",
      "./paper/comparison-all/1/livecGEHE-liveSkNnu.png\n",
      "./paper/comparison-all/2/livecGEHE-liveSkNnu.png\n",
      "./paper/comparison-all/3/livecGEHE-liveSkNnu.png\n",
      "./paper/comparison-all/4/livecGEHE-liveSkNnu.png\n",
      "./paper/comparison-all/0/liveMAA9l-livedCfIX.png\n",
      "./paper/comparison-all/1/liveMAA9l-livedCfIX.png\n",
      "./paper/comparison-all/2/liveMAA9l-livedCfIX.png\n",
      "./paper/comparison-all/3/liveMAA9l-livedCfIX.png\n",
      "./paper/comparison-all/4/liveMAA9l-livedCfIX.png\n",
      "./paper/comparison-all/0/liveoUMSN-liveQkFdl.png\n",
      "./paper/comparison-all/1/liveoUMSN-liveQkFdl.png\n",
      "./paper/comparison-all/2/liveoUMSN-liveQkFdl.png\n",
      "./paper/comparison-all/3/liveoUMSN-liveQkFdl.png\n",
      "./paper/comparison-all/4/liveoUMSN-liveQkFdl.png\n",
      "./paper/comparison-all/0/liveljo8R-livevgXNH.png\n",
      "./paper/comparison-all/1/liveljo8R-livevgXNH.png\n",
      "./paper/comparison-all/2/liveljo8R-livevgXNH.png\n",
      "./paper/comparison-all/3/liveljo8R-livevgXNH.png\n",
      "./paper/comparison-all/4/liveljo8R-livevgXNH.png\n",
      "./paper/comparison-all/0/livehnnVT-live8nbIU.png\n",
      "./paper/comparison-all/1/livehnnVT-live8nbIU.png\n",
      "./paper/comparison-all/2/livehnnVT-live8nbIU.png\n",
      "./paper/comparison-all/3/livehnnVT-live8nbIU.png\n",
      "./paper/comparison-all/4/livehnnVT-live8nbIU.png\n",
      "./paper/comparison-all/0/liveoiiSl-livemSkpP.png\n",
      "./paper/comparison-all/1/liveoiiSl-livemSkpP.png\n",
      "./paper/comparison-all/2/liveoiiSl-livemSkpP.png\n",
      "./paper/comparison-all/3/liveoiiSl-livemSkpP.png\n",
      "./paper/comparison-all/4/liveoiiSl-livemSkpP.png\n"
     ]
    }
   ],
   "source": [
    "import cv2\n",
    "import glob\n",
    "i = 0\n",
    "for filename in glob.glob('./paper/comparison/*.png'):\n",
    "    im=cv2.imread(filename, 1)\n",
    "    for i in range(5):\n",
    "        filename = './paper/comparison-all/'+str(i)+'/'+filename.split('/')[-1]\n",
    "        print(filename)\n",
    "        cv2.imwrite(filename, im[:,256*i:256*(i+1),:])"
   ]
  },
  {
   "cell_type": "code",
   "execution_count": 7,
   "metadata": {},
   "outputs": [],
   "source": [
    "import sqlite3\n",
    "import json\n",
    "import cv2\n",
    "import numpy as np\n",
    "import base64\n",
    "from keras.models import load_model\n",
    "\n",
    "model1 = load_model('stage1-epoch-150.h5')\n",
    "model2 = load_model('stage2-epoch-150.h5')\n",
    "pix2pix = load_model('pix2pix-epoch-149.h5')"
   ]
  },
  {
   "cell_type": "code",
   "execution_count": 12,
   "metadata": {},
   "outputs": [
    {
     "data": {
      "text/plain": [
       "True"
      ]
     },
     "execution_count": 12,
     "metadata": {},
     "output_type": "execute_result"
    }
   ],
   "source": [
    "image = cv2.imread('../output/train/00000020.jpg', 1)\n",
    "sketch = image[:,:256,:]\n",
    "landmark = image[:,256:256*2,:]\n",
    "image = image[:,256*2:,:]\n",
    "\n",
    "_, sketch = cv2.threshold(sketch,200,255,cv2.THRESH_BINARY)\n",
    "\n",
    "cv2.imwrite('./paper/image.png', image)\n",
    "cv2.imwrite('./paper/sketch.png', sketch)\n",
    "cv2.imwrite('./paper/landmark.png', landmark)\n",
    "\n",
    "landmark = np.array(landmark)/127.5-1\n",
    "sketch = np.array(sketch)/127.5-1\n",
    "\n",
    "landmark = landmark[np.newaxis,...]\n",
    "sketch = sketch[np.newaxis,...]\n",
    "\n",
    "pix2pix_result = pix2pix.predict(sketch)\n",
    "pix2pix_result = np.squeeze((pix2pix_result * 127.5 + 127.5).astype(np.uint8))\n",
    "pix2pix_result = cv2.cvtColor(pix2pix_result, cv2.COLOR_RGB2BGR)\n",
    "cv2.imwrite('./paper/pix2pix_result.png', pix2pix_result)\n",
    "\n",
    "fake_sketch = model1.predict(landmark)\n",
    "cv2.imwrite('./paper/fake_sketch.png', np.squeeze((fake_sketch * 127.5 + 127.5).astype(np.uint8)))\n",
    "\n",
    "sketch = np.concatenate([fake_sketch, sketch], axis=3)\n",
    "result = model2.predict(sketch)\n",
    "\n",
    "result = np.squeeze((result * 127.5 + 127.5).astype(np.uint8))\n",
    "result = cv2.cvtColor(result, cv2.COLOR_RGB2BGR)\n",
    "\n",
    "cv2.imwrite('./paper/result.png', result)"
   ]
  }
 ],
 "metadata": {
  "kernelspec": {
   "display_name": "Python 3",
   "language": "python",
   "name": "python3"
  },
  "language_info": {
   "codemirror_mode": {
    "name": "ipython",
    "version": 2
   },
   "file_extension": ".py",
   "mimetype": "text/x-python",
   "name": "python",
   "nbconvert_exporter": "python",
   "pygments_lexer": "ipython2",
   "version": "2.7.15"
  }
 },
 "nbformat": 4,
 "nbformat_minor": 2
}
